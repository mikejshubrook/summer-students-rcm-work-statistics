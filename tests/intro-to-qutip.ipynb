{
 "cells": [
  {
   "cell_type": "code",
   "execution_count": 1,
   "metadata": {},
   "outputs": [],
   "source": [
    "# in this file we will go through some basic commands used by qutip\n",
    "\n",
    "# the first thing we need to do is install the qutip package, which you can do with either of the following commands\n",
    "\n",
    "# pip install qutip\n",
    "# or\n",
    "# conda install -c conda-forge qutip      \n",
    "\n",
    "# we will also need numpy and matplotlib, which you can install with the following commands\n",
    "# pip install numpy matplotlib  \n",
    "# or\n",
    "# conda install numpy matplotlib"
   ]
  },
  {
   "cell_type": "code",
   "execution_count": 1,
   "metadata": {},
   "outputs": [],
   "source": [
    "# after being installed, we can import these packages\n",
    "import numpy as np\n",
    "import matplotlib.pyplot as plt\n",
    "import qutip as qt"
   ]
  },
  {
   "cell_type": "markdown",
   "metadata": {},
   "source": [
    "# Define operators on the qubit"
   ]
  },
  {
   "cell_type": "code",
   "execution_count": 2,
   "metadata": {},
   "outputs": [],
   "source": [
    "# the first thing we are going to do is create a qubit (aka a two-level system TLS)\n",
    "# to do this, we need to define the orthonormal basis states of the Hilbert space of the qubit.\n",
    "# we will call these states |e> and |g>, which we can define as follows:\n",
    "\n",
    "# |e> is the excited state, which we can represent as a column vector [1, 0]\n",
    "e = qt.basis(2, 0)\n",
    "\n",
    "# |g> is the ground state, which we can represent as a column vector [0, 1]\n",
    "g = qt.basis(2, 1)"
   ]
  },
  {
   "cell_type": "code",
   "execution_count": 3,
   "metadata": {},
   "outputs": [
    {
     "name": "stdout",
     "output_type": "stream",
     "text": [
      "Quantum object: dims=[[2], [1]], shape=(2, 1), type='ket', dtype=Dense\n",
      "Qobj data =\n",
      "[[1.]\n",
      " [0.]]\n"
     ]
    }
   ],
   "source": [
    "# lets print out the excited state to see what it looks like\n",
    "\n",
    "print(e)"
   ]
  },
  {
   "cell_type": "code",
   "execution_count": 4,
   "metadata": {},
   "outputs": [
    {
     "name": "stdout",
     "output_type": "stream",
     "text": [
      "[[2], [1]]\n"
     ]
    }
   ],
   "source": [
    "# it is an instance of the qutip.Qobj class, which is a class that represents a quantum object in qutip.\n",
    "# TODO: if you are not famililar with classes, instances of a class, methods and attributes, then have a look at some explanations online.\n",
    "\n",
    "# we can see that 'e' is a column vector with two elements, which corresponds to the two levels of the qubit.\n",
    "# we can also see that it is normalized, which means that the sum of the squares of the elements is equal to 1.\n",
    "# this is a requirement for quantum states, as they must be normalized to represent valid quantum states.\n",
    "\n",
    "# looking at its dimensions (dims) we can see it has 2 rows and 1 column\n",
    "# notice how the dimensions are stored, though, its not [2, 1] but rather [[2], [1]]\n",
    "print(e.dims)"
   ]
  },
  {
   "cell_type": "code",
   "execution_count": 5,
   "metadata": {},
   "outputs": [
    {
     "name": "stdout",
     "output_type": "stream",
     "text": [
      "(2, 1)\n"
     ]
    }
   ],
   "source": [
    "# contrast this with the shape of the object, which is stored as a tuple\n",
    "print(e.shape)"
   ]
  },
  {
   "cell_type": "code",
   "execution_count": 6,
   "metadata": {},
   "outputs": [
    {
     "name": "stdout",
     "output_type": "stream",
     "text": [
      "[[1.+0.j]\n",
      " [0.+0.j]]\n"
     ]
    }
   ],
   "source": [
    "# we can extract the elements of the vector using the .full() method, which returns a numpy array\n",
    "print(e.full())\n",
    "\n",
    "# notice that the elements are complex numbers"
   ]
  },
  {
   "cell_type": "code",
   "execution_count": 7,
   "metadata": {},
   "outputs": [
    {
     "name": "stdout",
     "output_type": "stream",
     "text": [
      "(1+0j)\n",
      "0j\n"
     ]
    }
   ],
   "source": [
    "# to extract a specific element of the vector, we can use the numpy indexing syntax\n",
    "# the first index of 0 gets us inside the first set of square brackets\n",
    "# the second index gets us inside the second set of square brackets, which is where we choose the row we want to extract\n",
    "\n",
    "\n",
    "print(e.full()[0, 0])  # this will print the first element of the vector, which is 1.0\n",
    "print(e.full()[1, 0])  # this will print the second element of the vector, which is 0.0"
   ]
  },
  {
   "cell_type": "code",
   "execution_count": 8,
   "metadata": {},
   "outputs": [],
   "source": [
    "# we arent going to want to work with these ket vectors directly, since we are interested in representing mixed states, which are matrices and not vectors\n",
    "# however, the ket vectors are used to define the different elements of the density matrix\n",
    "\n",
    "# we define these matrix elements as the outer product of the ket vectors\n",
    "\n",
    "# we will define the matrix elements density matrix of the qubit as follows:\n",
    "# [ee eg\n",
    "#  ge gg]\n",
    "# where \n",
    "ee = e * e.dag() # |e><e|\n",
    "eg = e * g.dag() # |e><g|\n",
    "ge = g * e.dag() # |g><e|\n",
    "gg = g * g.dag() # |g><g|\n"
   ]
  },
  {
   "cell_type": "code",
   "execution_count": 9,
   "metadata": {},
   "outputs": [
    {
     "name": "stdout",
     "output_type": "stream",
     "text": [
      "ee =  Quantum object: dims=[[2], [2]], shape=(2, 2), type='oper', dtype=CSR, isherm=True\n",
      "Qobj data =\n",
      "[[1. 0.]\n",
      " [0. 0.]]\n",
      "eg =  Quantum object: dims=[[2], [2]], shape=(2, 2), type='oper', dtype=CSR, isherm=False\n",
      "Qobj data =\n",
      "[[0. 1.]\n",
      " [0. 0.]]\n",
      "ge =  Quantum object: dims=[[2], [2]], shape=(2, 2), type='oper', dtype=CSR, isherm=False\n",
      "Qobj data =\n",
      "[[0. 0.]\n",
      " [1. 0.]]\n",
      "gg =  Quantum object: dims=[[2], [2]], shape=(2, 2), type='oper', dtype=CSR, isherm=True\n",
      "Qobj data =\n",
      "[[0. 0.]\n",
      " [0. 1.]]\n"
     ]
    }
   ],
   "source": [
    "# lets print out each matrix element, and you should see that they are all 2x2 matrices\n",
    "# and they have a '1' in the position corresponding to the outer product of the ket vectors, and '0's everywhere else\n",
    "print(\"ee = \", ee)\n",
    "print(\"eg = \", eg)\n",
    "print(\"ge = \", ge)\n",
    "print(\"gg = \", gg)\n",
    "\n",
    "# notice the position of the '1' corresponds to where I wrote the outer product in the matrix in the cell above"
   ]
  },
  {
   "cell_type": "code",
   "execution_count": 10,
   "metadata": {},
   "outputs": [
    {
     "name": "stdout",
     "output_type": "stream",
     "text": [
      "Quantum object: dims=[[2], [2]], shape=(2, 2), type='oper', dtype=CSR, isherm=True\n",
      "Qobj data =\n",
      "[[0.1+0.j 0.4+1.j]\n",
      " [0.4-1.j 0.9+0.j]]\n"
     ]
    }
   ],
   "source": [
    "# lets check that this has worked. \n",
    "# If I wanted to create a matrix that looked like this\n",
    "# [0.1 0.4+1j\n",
    "#  0.4-1j 0.9]\n",
    "\n",
    "# then we would need to do the following \n",
    "matrix = 0.1 * ee + (0.4 + 1j) * eg + (0.4 - 1j) * ge + 0.9 * gg\n",
    "\n",
    "# check\n",
    "print(matrix)"
   ]
  },
  {
   "cell_type": "code",
   "execution_count": null,
   "metadata": {},
   "outputs": [],
   "source": []
  },
  {
   "cell_type": "code",
   "execution_count": 11,
   "metadata": {},
   "outputs": [],
   "source": [
    "# since e and g are an orthonormal basis, we can use them to define any operator which acts on the qubit\n",
    "# for example, we can define the Pauli operators as follows:\n",
    "# X = e * g.dag() + g * e.dag() # Pauli-X\n",
    "# Y = 1j * (e * g.dag() - g * e.dag()) # Pauli-Y\n",
    "# Z = e * e.dag() - g * g.dag() # Pauli-Z   \n",
    "\n",
    "# we will now use these operators to define the Hamiltonian of the qubit"
   ]
  },
  {
   "cell_type": "markdown",
   "metadata": {},
   "source": [
    "# Define the qubit Hamiltonian"
   ]
  },
  {
   "cell_type": "code",
   "execution_count": 12,
   "metadata": {},
   "outputs": [],
   "source": [
    "# TODO: define the Pauli  Z operator\n",
    "X = e * g.dag() + g * e.dag()  # Pauli X\n"
   ]
  },
  {
   "cell_type": "code",
   "execution_count": 13,
   "metadata": {},
   "outputs": [],
   "source": [
    "# TODO: Define the Hamiltonian of the qubit as H = 0.5 * epsilon * Z + 0.5 * delta * X\n",
    "epsilon = 1.0  # energy difference between the two levels\n",
    "delta = 0.5    # driving strength between the two levels\n",
    "\n",
    "\n"
   ]
  },
  {
   "cell_type": "markdown",
   "metadata": {},
   "source": [
    "# Define operators which act on the Reaction Coordinate "
   ]
  },
  {
   "cell_type": "code",
   "execution_count": 14,
   "metadata": {},
   "outputs": [],
   "source": [
    "# notice that the only operators which act on the RC are the raising and lower operators\n",
    "# before we define these in qutip, we need to choose the dimension of the RC Hilbert space, M,\n",
    "# which is the same as the number of energy levels we want to include in the RC\n",
    "\n",
    "M = 5  # number of energy levels in the RC\n",
    "\n",
    "# we can now define the raising and lowering operators as follows\n",
    "a = qt.destroy(M)  # lowering operator\n",
    "adag = a.dag()     # raising operator\n",
    "\n",
    "\n"
   ]
  },
  {
   "cell_type": "markdown",
   "metadata": {},
   "source": [
    "# Use the tensor product to define operators on the extended system"
   ]
  },
  {
   "cell_type": "code",
   "execution_count": 15,
   "metadata": {},
   "outputs": [],
   "source": [
    "# unlike when we write things down on paper (where we sometimes omit the tensor product symbol) in qutip we need to explicitly define the tensor product of the operators\n",
    "\n",
    "# we can do this using the qt.tensor() function, which takes as arguments the operators we want to tensor product together\n",
    "\n",
    "# for example, if we want to perform the X operator on the TLS, we need to tell qutip to perform the identity operator on the RC at the same time\n",
    "# this is because we are treating the extended system as a tensor product of the TLS and the RC\n",
    "\n",
    "# define the identity operators on the RC and TLS\n",
    "I_RC = qt.qeye(M)  # identity operator on the RC\n",
    "I_sys = qt.qeye(2) # identity operator on the TLS\n",
    "\n",
    "# define an operator which acts non-trivially on the TLS and trivially on the RC\n",
    "X_ES = qt.tensor(X, I_RC)  # Pauli-X operator on the TLS, nothing on the RC\n",
    "\n",
    "# define an operator which acts non-trivially on the RC and trivially on the TLS\n",
    "a_ES = qt.tensor(I_sys, a)  # nothing on the TLS, lowering operator on the RC\n",
    "\n",
    "# notice that I am being consistent with the order of the operators in the tensor product\n",
    "# the first operator acts on the TLS, and the second operator acts on the RC"
   ]
  },
  {
   "cell_type": "code",
   "execution_count": 16,
   "metadata": {},
   "outputs": [
    {
     "name": "stdout",
     "output_type": "stream",
     "text": [
      "Quantum object: dims=[[2], [2]], shape=(2, 2), type='oper', dtype=CSR, isherm=True\n",
      "Qobj data =\n",
      "[[0. 1.]\n",
      " [1. 0.]]\n"
     ]
    }
   ],
   "source": [
    "# if you are confused about what is going on, now is a good time to look at the dimensions of the operators\n",
    "# lets see what the difference between 'X' (which acts on the TLS) and 'X_sys' (which acts on the extended system)\n",
    "print(X)"
   ]
  },
  {
   "cell_type": "code",
   "execution_count": 17,
   "metadata": {},
   "outputs": [
    {
     "name": "stdout",
     "output_type": "stream",
     "text": [
      "Quantum object: dims=[[2, 5], [2, 5]], shape=(10, 10), type='oper', dtype=CSR, isherm=True\n",
      "Qobj data =\n",
      "[[0. 0. 0. 0. 0. 1. 0. 0. 0. 0.]\n",
      " [0. 0. 0. 0. 0. 0. 1. 0. 0. 0.]\n",
      " [0. 0. 0. 0. 0. 0. 0. 1. 0. 0.]\n",
      " [0. 0. 0. 0. 0. 0. 0. 0. 1. 0.]\n",
      " [0. 0. 0. 0. 0. 0. 0. 0. 0. 1.]\n",
      " [1. 0. 0. 0. 0. 0. 0. 0. 0. 0.]\n",
      " [0. 1. 0. 0. 0. 0. 0. 0. 0. 0.]\n",
      " [0. 0. 1. 0. 0. 0. 0. 0. 0. 0.]\n",
      " [0. 0. 0. 1. 0. 0. 0. 0. 0. 0.]\n",
      " [0. 0. 0. 0. 1. 0. 0. 0. 0. 0.]]\n"
     ]
    }
   ],
   "source": [
    "# its a 2x2 matrix, which acts only on the TLS\n",
    "\n",
    "# now lets look at the dimensions of the X_ES operator\n",
    "print(X_ES)"
   ]
  },
  {
   "cell_type": "code",
   "execution_count": 18,
   "metadata": {},
   "outputs": [],
   "source": [
    "# this is a 2Mx2M matrix (where M =5, which we chose earlier)\n",
    "# notice how the dimensions are stored, though, its not [2M, 2M] but rather [[2], [M], [2], [M]]\n",
    "# this can be a bit confusing, but it is just how qutip stores the dimensions of the operators, its basically storing the fact that you are tensoring two operators together\n",
    "\n",
    "# the dims are dims=[[2, 5], [2, 5]]\n",
    "# but the shape is shape=(10, 10)\n",
    "\n"
   ]
  },
  {
   "cell_type": "markdown",
   "metadata": {},
   "source": [
    "# Define the extended system Hamiltonian"
   ]
  },
  {
   "cell_type": "code",
   "execution_count": 19,
   "metadata": {},
   "outputs": [],
   "source": [
    "# I will give some random numbers for the values of the energies within the extended system Hamiltonian,\n",
    "\n",
    "epsilon = 1.0  # energy difference between the two levels\n",
    "delta = 0.5    # driving strength between the two levels\n",
    "llambda = 0.1  # coupling strength between the TLS and the RC ('lambda' is a reserved keyword in Python, so we use llambda instead)\n",
    "Omega = 0.2    # energy of the RC\n",
    "\n",
    "# can you build the extended system Hamiltonian?\n",
    "# here is how I might write it down on paper:"
   ]
  },
  {
   "cell_type": "markdown",
   "metadata": {},
   "source": [
    "$H_{ES} = \\frac{\\epsilon}{2}\\sigma_{z} + \\frac{\\Delta}{2}\\sigma_{x} + \\lambda\\sigma_{z}\\otimes(a+a^{\\dagger}) + \\Omega a^{\\dagger}a$"
   ]
  },
  {
   "cell_type": "code",
   "execution_count": null,
   "metadata": {},
   "outputs": [],
   "source": [
    "# but I have omitted the tensor product symbol, which we need to include in qutip\n",
    "\n",
    "# TODO: Define the extended system Hamiltonian \n",
    "# hint: make sure each object is the same dimension when you try and add them together,\n",
    "# does it make sense to add a 2x2 matrix to a 2Mx2M matrix? \n",
    "# does it make sense to add an MxM matrix to a 2Mx2M matrix?\n",
    "\n"
   ]
  }
 ],
 "metadata": {
  "kernelspec": {
   "display_name": "summer-rcm-work",
   "language": "python",
   "name": "python3"
  },
  "language_info": {
   "codemirror_mode": {
    "name": "ipython",
    "version": 3
   },
   "file_extension": ".py",
   "mimetype": "text/x-python",
   "name": "python",
   "nbconvert_exporter": "python",
   "pygments_lexer": "ipython3",
   "version": "3.12.2"
  }
 },
 "nbformat": 4,
 "nbformat_minor": 2
}
